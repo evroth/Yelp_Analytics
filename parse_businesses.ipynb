{
  "nbformat": 4,
  "nbformat_minor": 0,
  "metadata": {
    "colab": {
      "provenance": [],
      "include_colab_link": true
    },
    "kernelspec": {
      "name": "python3",
      "display_name": "Python 3"
    },
    "language_info": {
      "name": "python"
    }
  },
  "cells": [
    {
      "cell_type": "markdown",
      "metadata": {
        "id": "view-in-github",
        "colab_type": "text"
      },
      "source": [
        "<a href=\"https://colab.research.google.com/github/evroth/Yelp_Analytics/blob/main/parse_businesses.ipynb\" target=\"_parent\"><img src=\"https://colab.research.google.com/assets/colab-badge.svg\" alt=\"Open In Colab\"/></a>"
      ]
    },
    {
      "cell_type": "code",
      "execution_count": 16,
      "metadata": {
        "id": "qaSduxg1pJCC"
      },
      "outputs": [],
      "source": [
        "import numpy as np\n",
        "import pandas as pd\n",
        "b_pandas = []\n",
        "r_dtypes = {\"stars\": np.float16, \n",
        "            \"useful\": np.int32, \n",
        "            \"funny\": np.int32,\n",
        "            \"cool\": np.int32,\n",
        "           }\n",
        "with open(\"yelp_academic_dataset_business.json\", \"r\") as f:\n",
        "    reader = pd.read_json(f, orient=\"records\", lines=True, \n",
        "                          dtype=r_dtypes, chunksize=1000)\n",
        "    for chunk in reader:\n",
        "        reduced_chunk = chunk.drop(columns=['address', 'latitude', 'longitude',])\n",
        "        b_pandas.append(reduced_chunk)\n",
        "    \n",
        "b_pandas = pd.concat(b_pandas, ignore_index=True)"
      ]
    },
    {
      "cell_type": "code",
      "source": [
        "print(b_pandas)"
      ],
      "metadata": {
        "id": "RGyOZZgGAkpp",
        "colab": {
          "base_uri": "https://localhost:8080/"
        },
        "outputId": "a0dfc857-6db9-4597-c738-7bf3349fa492"
      },
      "execution_count": 17,
      "outputs": [
        {
          "output_type": "stream",
          "name": "stdout",
          "text": [
            "                   business_id                      name           city state  \\\n",
            "0       Pns2l4eNsfO8kk83dixA6A  Abby Rappoport, LAC, CMQ  Santa Barbara    CA   \n",
            "1       mpf3x-BjTdTEA3yCZrAYPw             The UPS Store         Affton    MO   \n",
            "2       tUFrWirKiKi_TAnsVWINQQ                    Target         Tucson    AZ   \n",
            "3       MTSW4McQd7CbVtyjqoe9mw        St Honore Pastries   Philadelphia    PA   \n",
            "4       mWMc6_wTdE0EUBKIGXDVfA  Perkiomen Valley Brewery     Green Lane    PA   \n",
            "...                        ...                       ...            ...   ...   \n",
            "150341  IUQopTMmYQG-qRtBk-8QnA              Binh's Nails       Edmonton    AB   \n",
            "150342  c8GjPIOTGVmIemT7j5_SyQ      Wild Birds Unlimited      Nashville    TN   \n",
            "150343  _QAMST-NrQobXduilWEqSw         Claire's Boutique   Indianapolis    IN   \n",
            "150344  mtGm22y5c2UHNXDFAjaPNw  Cyclery & Fitness Center   Edwardsville    IL   \n",
            "150345  jV_XOycEzSlTx-65W906pg                   Sic Ink   Apollo beach    FL   \n",
            "\n",
            "       postal_code  stars  review_count  is_open  \\\n",
            "0            93101    5.0             7        0   \n",
            "1            63123    3.0            15        1   \n",
            "2            85711    3.5            22        0   \n",
            "3            19107    4.0            80        1   \n",
            "4            18054    4.5            13        1   \n",
            "...            ...    ...           ...      ...   \n",
            "150341     T6J 5H2    3.0            13        1   \n",
            "150342       37204    4.0             5        1   \n",
            "150343       46250    3.5             8        1   \n",
            "150344       62025    4.0            24        1   \n",
            "150345       33572    4.5             9        1   \n",
            "\n",
            "                                               attributes  \\\n",
            "0                           {'ByAppointmentOnly': 'True'}   \n",
            "1                  {'BusinessAcceptsCreditCards': 'True'}   \n",
            "2       {'BikeParking': 'True', 'BusinessAcceptsCredit...   \n",
            "3       {'RestaurantsDelivery': 'False', 'OutdoorSeati...   \n",
            "4       {'BusinessAcceptsCreditCards': 'True', 'Wheelc...   \n",
            "...                                                   ...   \n",
            "150341  {'ByAppointmentOnly': 'False', 'RestaurantsPri...   \n",
            "150342  {'BusinessAcceptsCreditCards': 'True', 'Restau...   \n",
            "150343  {'RestaurantsPriceRange2': '1', 'BusinessAccep...   \n",
            "150344  {'BusinessParking': '{'garage': False, 'street...   \n",
            "150345  {'WheelchairAccessible': 'True', 'BusinessAcce...   \n",
            "\n",
            "                                               categories  \\\n",
            "0       Doctors, Traditional Chinese Medicine, Naturop...   \n",
            "1       Shipping Centers, Local Services, Notaries, Ma...   \n",
            "2       Department Stores, Shopping, Fashion, Home & G...   \n",
            "3       Restaurants, Food, Bubble Tea, Coffee & Tea, B...   \n",
            "4                               Brewpubs, Breweries, Food   \n",
            "...                                                   ...   \n",
            "150341                         Nail Salons, Beauty & Spas   \n",
            "150342  Pets, Nurseries & Gardening, Pet Stores, Hobby...   \n",
            "150343  Shopping, Jewelry, Piercing, Toy Stores, Beaut...   \n",
            "150344  Fitness/Exercise Equipment, Eyewear & Optician...   \n",
            "150345  Beauty & Spas, Permanent Makeup, Piercing, Tattoo   \n",
            "\n",
            "                                                    hours  \n",
            "0                                                    None  \n",
            "1       {'Monday': '0:0-0:0', 'Tuesday': '8:0-18:30', ...  \n",
            "2       {'Monday': '8:0-22:0', 'Tuesday': '8:0-22:0', ...  \n",
            "3       {'Monday': '7:0-20:0', 'Tuesday': '7:0-20:0', ...  \n",
            "4       {'Wednesday': '14:0-22:0', 'Thursday': '16:0-2...  \n",
            "...                                                   ...  \n",
            "150341  {'Monday': '10:0-19:30', 'Tuesday': '10:0-19:3...  \n",
            "150342  {'Monday': '9:30-17:30', 'Tuesday': '9:30-17:3...  \n",
            "150343                                               None  \n",
            "150344  {'Monday': '9:0-20:0', 'Tuesday': '9:0-20:0', ...  \n",
            "150345  {'Tuesday': '12:0-19:0', 'Wednesday': '12:0-19...  \n",
            "\n",
            "[150346 rows x 11 columns]\n"
          ]
        }
      ]
    },
    {
      "cell_type": "code",
      "source": [
        "b_pandas['attributes'][1:5]"
      ],
      "metadata": {
        "colab": {
          "base_uri": "https://localhost:8080/"
        },
        "id": "ub-eWv5iz5OH",
        "outputId": "139d21cf-0f7a-4800-b16e-7a6815c13e70"
      },
      "execution_count": 15,
      "outputs": [
        {
          "output_type": "execute_result",
          "data": {
            "text/plain": [
              "1               {'BusinessAcceptsCreditCards': 'True'}\n",
              "2    {'BikeParking': 'True', 'BusinessAcceptsCredit...\n",
              "3    {'RestaurantsDelivery': 'False', 'OutdoorSeati...\n",
              "4    {'BusinessAcceptsCreditCards': 'True', 'Wheelc...\n",
              "Name: attributes, dtype: object"
            ]
          },
          "metadata": {},
          "execution_count": 15
        }
      ]
    },
    {
      "cell_type": "code",
      "source": [
        "print(b_pandas.dtypes)"
      ],
      "metadata": {
        "colab": {
          "base_uri": "https://localhost:8080/"
        },
        "id": "BnsQYZlfMNYG",
        "outputId": "8abfd75d-2459-4b2b-fccc-4ecfcb3d02a7"
      },
      "execution_count": 24,
      "outputs": [
        {
          "output_type": "stream",
          "name": "stdout",
          "text": [
            "business_id      object\n",
            "name             object\n",
            "city             object\n",
            "state            object\n",
            "postal_code      object\n",
            "stars           float16\n",
            "review_count      int64\n",
            "is_open           int64\n",
            "attributes       object\n",
            "categories       object\n",
            "hours            object\n",
            "dtype: object\n"
          ]
        }
      ]
    },
    {
      "cell_type": "code",
      "source": [
        "# Convert the 'data_dict' column to a dictionary\n",
        "attribute_dict = b_pandas['attributes'].to_dict()\n",
        "categories_dict = b_pandas['categories'].to_dict()\n",
        "# Print the resulting dictionary\n",
        "#print(data_dict,5)"
      ],
      "metadata": {
        "id": "_LSAaK22NopJ"
      },
      "execution_count": 37,
      "outputs": []
    },
    {
      "cell_type": "code",
      "source": [
        "# Split the strings on commas and extract unique values\n",
        "unique_values = set(b_pandas['categories'].str.split(',').explode())\n",
        "\n",
        "# Print the unique values\n",
        "print(unique_values)"
      ],
      "metadata": {
        "colab": {
          "base_uri": "https://localhost:8080/"
        },
        "id": "fq8sW1eHSmO4",
        "outputId": "87d24715-af1f-4c0b-8593-147c1653dc66"
      },
      "execution_count": 44,
      "outputs": [
        {
          "output_type": "stream",
          "name": "stdout",
          "text": [
            "{'Air Duct Cleaning', ' Cardiologists', 'Boat Tours', ' Motorcycle Gear', 'Airport Shuttles', 'Trains', ' Real Estate Agents', ' Internet Cafes', ' Solar Panel Cleaning', ' Fast Food', ' Translation Services', ' Gluten-Free', ' Marketing', ' Permanent Makeup', 'Life Insurance', 'Medical Spas', ' Hobby Shops', '3D Printing', 'Machine Shops', ' Cafes', \" Children's Museums\", ' Smog Check Stations', ' Dental Hygienists', ' Sporting Goods', 'Dance Schools', 'Lebanese', 'Appliances', ' Bookstores', ' Backflow Services', ' Skate Shops', ' Lice Services', ' Brewpubs', ' Italian', 'Scandinavian', ' Seafood Markets', ' Fitness/Exercise Equipment', ' Auto Detailing', ' Graphic Design', ' Teeth Whitening', ' Art Supplies', 'Personal Injury Law', ' Cheese Shops', ' Pawn Shops', ' Mosques', ' Acne Treatment', ' Installment Loans', ' Bankruptcy Law', ' Pest Control', ' Food Banks', 'Balloon Services', 'College Counseling', ' Nursing Schools', 'Cosmetics & Beauty Supply', ' Patio Coverings', 'Tex-Mex', ' Laundry Services', ' Wills', 'Pasta Shops', ' Estate Liquidation', ' Brazilian Jiu-jitsu', ' Convenience Stores', 'Nail Technicians', ' Karaoke', ' Shades & Blinds', ' Eastern European', 'Generator Installation/Repair', ' Sardinian', 'Casinos', 'Artificial Turf', ' Holiday Decorations', ' Stonemasons', 'Pumpkin Patches', 'Acai Bowls', 'Educational Services', 'Pet Cremation Services', 'Canadian (New)', ' Luggage', ' Indoor Landscaping', ' Dietitians', 'Matchmakers', 'Taxidermy', ' Beer Gardens', ' General Litigation', 'Cajun/Creole', ' Web Design', ' Recreation Centers', 'Commercial Truck Dealers', ' Motorsport Vehicle Dealers', 'Plastic Surgeons', 'Home Network Installation', ' Print Media', ' Shaved Ice', 'Furniture Stores', ' Elder Care Planning', ' Pizza', ' Mortgage Lenders', 'Flowers & Gifts', ' Herbal Shops', 'Cupcakes', ' Adoption Services', ' Musical Instrument Services', 'Irrigation', 'Juice Bars & Smoothies', ' Home Cleaning', ' Ticket Sales', 'Tiki Bars', 'Wraps', ' Acai Bowls', 'Elevator Services', ' Placenta Encapsulations', 'Venezuelan', ' Accountants', 'Tubing', ' Rehabilitation Center', ' Marinas', 'Mini Golf', 'Water Delivery', 'Pizza', 'Paint Stores', ' Iberian', ' DUI Schools', 'Basketball Courts', ' Brasseries', ' Countertop Installation', ' Sports Medicine', 'Hunting & Fishing Supplies', 'Polish', 'Land Surveying', ' Tui Na', 'Piano Bars', ' Divorce & Family Law', ' Immunodermatologists', 'Wills', 'Meaderies', 'Animal Shelters', ' Chicken Wings', 'Gastroenterologist', 'Hotels & Travel', ' Sperm Clinic', 'Mobile Home Dealers', ' Badminton', ' Tires', 'Financial Services', ' African', 'Venues & Event Spaces', ' Airport Terminals', ' Playgrounds', 'Gluten-Free', ' Watches', ' Pet Sitting', ' Service Stations', 'Party Equipment Rentals', ' Electronics', 'Pet Breeders', 'Roof Inspectors', ' Saunas', 'Baseball Fields', 'Ziplining', ' Poutineries', ' Distilleries', ' Religious Items', 'Psychics', ' Internal Medicine', ' Animal Shelters', ' Vietnamese', 'Butcher', ' Paint Stores', 'Eyelash Service', 'Speakeasies', ' Counseling & Mental Health', ' Clock Repair', 'Luggage Storage', ' Language Schools', 'Rock Climbing', ' Supernatural Readings', 'Passport & Visa Services', 'Pick Your Own Farms', ' Rafting/Kayaking', ' Pet Groomers', 'Whale Watching Tours', 'Solar Installation', ' Discount Store', ' Specialty Food', 'Beaches', ' IP & Internet Law', ' Syrian', ' Beer', ' Environmental Abatement', ' Junkyards', ' Check Cashing/Pay-day Loans', 'IP & Internet Law', ' Gemstones & Minerals', ' Hakka', 'Religious Organizations', 'Interval Training Gyms', 'Local Flavor', ' Awnings', 'Child Care & Day Care', 'Laser Tag', \" Men's Clothing\", 'Dive Bars', ' Beach Bars', ' Sicilian', 'Personal Care Services', ' Falafel', ' Parks', ' Party Equipment Rentals', 'Immigration Law', 'Prenatal/Perinatal Care', 'Barre Classes', ' Bounce House Rentals', ' Skydiving', ' Trinidadian', ' Apartments', 'Food', 'Home Organization', ' Vacation Rental Agents', ' Beer Hall', ' Flowers', 'Surf Schools', ' Swimwear', ' Kitchen & Bath', ' Scandinavian', ' Lighting Stores', ' Historical Tours', 'Reptile Shops', ' Surf Schools', 'Race Tracks', 'Signmaking', ' Aestheticians', 'Vape Shops', 'Notaries', 'Teppanyaki', 'Tuscan', ' Virtual Reality Centers', ' Dominican', 'Dinner Theater', 'Gay Bars', ' Psychiatrists', 'Screen Printing', 'Pulmonologist', 'Watch Repair', 'Bagels', ' Embassy', ' Recording & Rehearsal Studios', 'Car Dealers', ' Vitamins & Supplements', ' Investing', 'Ticket Sales', ' Outdoor Power Equipment Services', ' Somali', 'Beer', 'Hungarian', ' Toy Stores', 'Professional Services', ' Free Diving', 'Courthouses', 'Tires', ' Arts & Entertainment', 'Pain Management', ' Farm Equipment Repair', ' Financial Services', 'Clock Repair', 'Countertop Installation', ' Festivals', ' Pool Halls', ' Automotive', ' Formal Wear', ' Qi Gong', 'Knife Sharpening', 'Midwives', 'Endocrinologists', ' Health Coach', ' Whiskey Bars', 'Customized Merchandise', 'Session Photography', ' Synagogues', 'Furniture Reupholstery', 'Amateur Sports Teams', 'Office Cleaning', 'Car Window Tinting', ' Windshield Installation & Repair', 'Virtual Reality Centers', ' Burmese', ' Business Law', ' Community Centers', ' Auto Security', 'Horseback Riding', ' Butcher', 'Halal', ' Gelato', ' Meat Shops', ' Golf', ' Natural Gas Suppliers', ' Ski Schools', 'Kitchen Supplies', ' Axe Throwing', 'Reflexology', ' Gerontologists', 'Health Coach', 'Osteopathic Physicians', 'Tax Services', ' Surf Shop', 'Cabaret', 'Piercing', 'Tableware', 'Golf Equipment', ' Tanning', 'Internet Service Providers', ' Cremation Services', ' Hot Tub & Pool', ' Furniture Assembly', 'Traditional Chinese Medicine', 'Architects', 'Water Purification Services', ' Childproofing', ' Planetarium', 'Custom Cakes', 'Physical Therapy', ' Speakeasies', ' Traditional Clothing', 'Dentists', 'Mobile Phones', ' Driving Schools', ' Cannabis Clinics', 'Interior Design', 'Mountain Biking', ' Fur Clothing', 'Floral Designers', ' Data Recovery', ' Fireplace Services', 'Blood & Plasma Donation Centers', 'Pilates', 'British', ' Middle Eastern', ' Preventive Medicine', 'Lahmacun', 'Hotel bar', 'Auto Glass Services', ' Imported Food', 'Firewood', 'Preventive Medicine', 'Aerial Fitness', 'Fruits & Veggies', 'Festivals', ' Ski & Snowboard Shops', ' Tonkatsu', ' Summer Camps', 'Bike tours', ' Travel Services', 'Skydiving', ' Do-It-Yourself Food', 'Waterproofing', ' Drive-In Theater', ' Travel Agents', ' Irrigation', ' Nephrologists', ' Kitchen Incubators', ' Arcades', 'Kids Hair Salons', 'Perfume', 'Personal Shopping', 'Truck Rental', ' Bikes', ' Event Photography', 'Television Stations', 'African', 'Software Development', ' Boat Tours', ' Challenge Courses', ' Emergency Medicine', ' Bar Crawl', ' Ceremonial Clothing', 'Batting Cages', ' Bicycles', ' Local Services', ' Tax Law', 'Hotels', 'Sushi Bars', ' Financial Advising', ' Fire Protection Services', 'Hindu Temples', ' Walk-in Clinics', ' Boat Charters', ' Pasta Shops', 'Car Buyers', 'Flowers', 'Spanish', ' Drywall Installation & Repair', ' Professional Services', 'Live/Raw Food', ' Skate Parks', 'Pest Control', 'Bus Stations', 'Event Planning & Services', 'Hair Removal', ' Urologists', ' Motorcycle Repair', ' Laser Hair Removal', ' Taxidermy', 'Shoe Repair', ' Zoos', ' Cannabis Tours', 'Active Life', ' Swimming Pools', 'Ice Cream & Frozen Yogurt', ' Tubing', 'Tennis', 'Backflow Services', ' Drama Schools', 'Horse Equipment Shops', ' Hearing Aid Providers', ' Wine & Spirits', 'Cremation Services', 'Gas Stations', 'Malaysian', 'Brewpubs', ' College Counseling', 'Music & DVDs', ' Sugaring', ' Personal Assistants', 'Mobile Phone Accessories', 'Honduran', 'Attraction Farms', 'Leisure Centers', ' Hiking', ' Gift Shops', ' Carousels', ' Airsoft', ' Wallpapering', 'Italian', 'Radio Stations', ' Bed & Breakfast', ' Life Insurance', 'Wine Bars', 'Carpeting', ' Taiwanese', ' House Sitters', ' Dart Arenas', 'Hang Gliding', 'Farms', ' Wine Bars', ' Pediatric Dentists', ' Cinema', ' Mass Media', ' Aquariums', ' Flea Markets', ' Solar Installation', ' Mobile Phone Repair', 'Prosthodontists', ' Traditional Chinese Medicine', ' Transportation', 'Police Departments', ' Gutter Services', 'Laotian', 'Bail Bondsmen', 'Permanent Makeup', ' Caricatures', 'Shades & Blinds', ' Gymnastics', ' Art Restoration', ' Landmarks & Historical Buildings', ' Photo Booth Rentals', 'Sandblasting', 'Outdoor Gear', 'Guitar Stores', ' Furniture Reupholstery', ' Television Service Providers', ' Jewelry Repair', 'Powder Coating', ' Horse Racing', ' Hot Dogs', ' Museums', 'Banks & Credit Unions', ' Bridal', 'Photo Booth Rentals', ' Powder Coating', 'Iberian', 'Pet Adoption', ' Preschools', 'Insulation Installation', 'Tobacco Shops', ' Soup', 'Moroccan', ' Faith-based Crisis Pregnancy Centers', ' Mobile Phones', ' Floral Designers', 'Airlines', ' Personal Chefs', ' Tacos', ' Cultural Center', 'Art Restoration', ' Pop-Up Restaurants', 'Bike Parking', ' Music Venues', ' Roadside Assistance', ' Proctologists', ' Ophthalmologists', 'Real Estate Photography', 'Taiwanese', 'Adoption Services', ' Leisure Centers', ' Haitian', ' Cuban', 'Scuba Diving', ' Criminal Defense Law', 'Towing', ' Latin American', 'Cryotherapy', 'Recreation Centers', 'Pet Insurance', ' Karate', 'Sewing & Alterations', 'Hats', 'Doulas', ' Concierge Medicine', ' Fire Departments', 'Hospitals', ' Colleges & Universities', 'Cocktail Bars', ' Aircraft Repairs', ' Home Staging', ' Circuit Training Gyms', 'Fuel Docks', 'Antiques', ' Wine Tours', 'Accountants', ' Diagnostic Services', ' Nail Salons', 'Watches', ' Laundromat', ' Fertility', 'RV Parks', ' Pickleball', ' Amateur Sports Teams', ' Yelp Events', ' Career Counseling', ' Packing Supplies', ' Health & Medical', ' Assisted Living Facilities', 'Seafood Markets', 'Axe Throwing', ' Hunting & Fishing Supplies', 'Baby Gear & Furniture', ' Botanical Gardens', ' University Housing', 'Pet Waste Removal', ' Makeup Artists', 'Cardio Classes', 'Periodontists', ' Health Insurance Offices', 'Churches', 'Home Automation', 'Landscaping', 'Bookstores', 'Hydro-jetting', ' DIY Auto Shop', 'Department Stores', ' Party Characters', 'Delicatessen', 'Clowns', ' Street Vendors', ' Herbs & Spices', ' Fish & Chips', ' Jet Skis', 'Car Share Services', ' Paintball', 'Horse Racing', 'Restaurant Supplies', ' Furniture Repair', ' Legal Services', ' Safe Stores', ' Auto Customization', 'Check Cashing/Pay-day Loans', 'Arcades', 'Investing', ' Optometrists', 'Elementary Schools', 'Commissioned Artists', ' Ethnic Grocery', 'Carpet Installation', 'Auction Houses', 'Commercial Real Estate', 'Lice Services', ' General Dentistry', ' Airport Lounges', ' Public Relations', ' Food Stands', ' Hospitalists', 'Art Galleries', ' Kosher', ' Commissioned Artists', 'Shopping', 'Personal Chefs', ' Art Galleries', ' Donation Center', ' Tenant and Eviction Law', ' Undersea/Hyperbaric Medicine', ' Tree Services', 'Jet Skis', ' Sandblasting', ' Team Building Activities', ' Arts & Crafts', ' Crane Services', 'Employment Law', 'Pakistani', ' Waterproofing', 'Szechuan', ' Anesthesiologists', ' Brewing Supplies', 'Electricians', ' Farming Equipment', ' Tex-Mex', 'Town Hall', 'Brazilian', 'General Litigation', ' Product Design', ' Truck Rental', 'Vitamins & Supplements', ' Shoe Repair', 'Cigar Bars', ' Ultrasound Imaging Centers', 'Carpet Cleaning', ' Firewood', ' Child Care & Day Care', ' Shopping', 'Shanghainese', 'Packing Supplies', 'Hiking', ' Security Services', ' Racing Experience', 'Driving Schools', 'Country Dance Halls', 'Bars', 'Party Characters', ' Tasting Classes', 'Hair Extensions', ' Breweries', ' Soul Food', ' Vascular Medicine', ' Psychologists', 'Awnings', ' Maternity Wear', ' Country Dance Halls', ' Professional Sports Teams', ' Horse Equipment Shops', ' Musical Instruments & Teachers', ' Towing', ' Surgeons', 'Museums', ' Duplication Services', 'Vermouth Bars', ' Chiropractors', ' Visitor Centers', ' Commercial Truck Repair', ' Family Practice', 'DJs', 'Business Financing', ' Batting Cages', 'Spiritual Shop', ' Mobile Home Dealers', 'Mexican', ' Vehicle Wraps', 'Irish Pub', 'Taxis', 'Guest Houses', ' Spanish', 'Accessories', ' Patisserie/Cake Shop', ' Juice Bars & Smoothies', ' Home Theatre Installation', ' Consumer Law', 'Post Offices', ' Honey', 'Themed Cafes', 'Vascular Medicine', 'Kickboxing', ' Hotels & Travel', ' Tiki Bars', 'Body Contouring', ' Boudoir Photography', ' Bus Rental', ' Pet Hospice', 'Tours', ' Mountain Biking', 'Airports', 'Engraving', 'Chinese Martial Arts', ' Modern European', 'Barbers', ' Bowling', 'Animal Assisted Therapy', ' Malaysian', ' Pan Asian', 'Creperies', 'Donuts', 'Naturopathic/Holistic', 'Landscape Architects', ' Food Tours', 'Dermatologists', ' Oil Change Stations', 'Health Insurance Offices', ' Drones', 'Sports Medicine', ' Aircraft Dealers', ' Perfume', ' Hot Pot', 'Religious Schools', ' Traffic Schools', ' Buses', 'Concierge Medicine', ' Fruits & Veggies', ' Nurse Practitioner', ' Indonesian', 'Skilled Nursing', ' Masonry/Concrete', 'Champagne Bars', 'Singaporean', 'Shredding Services', 'General Dentistry', ' RV Parks', ' Kitchen Supplies', 'Tattoo Removal', ' Home Decor', ' Barbers', ' Video/Film Production', 'Surf Shop', 'Brasseries', ' Unofficial Yelp Events', ' Nightlife', 'Fences & Gates', 'Shaved Ice', 'Bikes', ' High Fidelity Audio Equipment', 'Environmental Abatement', ' Massage Therapy', ' Cafeteria', 'Noodles', 'Street Vendors', ' Conveyor Belt Sushi', ' Ferries', ' Elder Law', 'Photography Stores & Services', ' Piano Services', ' Architects', ' Armenian', 'Shoe Stores', ' Pulmonologist', 'Oil Change Stations', ' Grout Services', ' Chimney Sweeps', 'Pet Boarding', 'Latin American', 'Honey', 'Airport Terminals', ' Gastropubs', ' Adult Entertainment', 'Breweries', 'Car Inspectors', ' Pain Management', ' Phlebologists', ' Real Estate Law', ' Tattoo Removal', 'Graphic Design', 'First Aid Classes', ' Refinishing Services', ' Sushi Bars', 'CPR Classes', ' Party Supplies', ' Shaved Snow', 'Indian', 'Event Photography', 'Party Bike Rentals', 'Fishing', ' Trailer Rental', 'Crane Services', 'Head Shops', 'Self-defense Classes', ' Taekwondo', 'Shaved Snow', ' Water Heater Installation/Repair', 'Auto Parts & Supplies', 'Motorcycle Rental', 'Chinese', ' Concept Shops', 'Limos', 'Kids Activities', 'Cantonese', 'Hainan', ' Hostels', 'Neurotologists', ' Montessori Schools', 'Pressure Washers', 'Hostels', 'Auto Repair', 'Sports Bars', 'Pan Asian', 'Arts & Entertainment', 'Jewelry', ' Dermatologists', ' Beer Tours', 'Pediatricians', ' Coffee Roasteries', 'Heating & Air Conditioning/HVAC', ' Laboratory Testing', 'Sport Equipment Hire', 'Candle Stores', ' Sailing', ' Fingerprinting', ' Bail Bondsmen', ' Pressure Washers', 'Portuguese', 'Car Brokers', ' Farms', ' Emergency Rooms', ' Firearm Training', ' Pet Services', ' Outdoor Movies', 'Outdoor Power Equipment Services', 'Aquariums', 'Hydrotherapy', ' Departments of Motor Vehicles', ' Bicycle Paths', ' Talent Agencies', ' Military Surplus', 'Financial Advising', 'Art Tours', 'Traditional Clothing', 'Ophthalmologists', ' Food Trucks', ' Pancakes', ' Portable Toilet Services', ' Appraisal Services', ' Outlet Stores', 'Parking', 'Meat Shops', ' Furniture Rental', 'EV Charging Stations', ' Sports Betting', 'Senior Centers', ' Paint-Your-Own Pottery', 'Car Wash', ' Religious Organizations', 'Middle Schools & High Schools', 'Translation Services', ' Nurseries & Gardening', ' Personal Injury Law', ' Amusement Parks', 'Holiday Decorations', 'Kombucha', ' Wine Tasting Room', ' Fondue', 'Farm Equipment Repair', 'Uzbek', 'Concept Shops', 'Sailing', 'Neurologist', ' Structural Engineers', 'Drywall Installation & Repair', 'Health & Medical', ' Stucco Services', 'Bike Rentals', 'Prosthetics', 'Izakaya', ' Podiatrists', ' Eyebrow Services', 'Automotive', 'Boxing', ' Music Production Services', ' Delis', 'Train Stations', 'Outdoor Furniture Stores', ' Auto Insurance', 'Home Developers', ' Dance Wear', 'Real Estate', ' Bird Shops', 'Modern European', ' Property Management', ' Props', ' Self Storage', 'Hookah Bars', ' Trailer Repair', ' Local Flavor', 'Private Investigation', ' Photographers', ' Dance Schools', ' Television Stations', 'Cafes', 'Safety Equipment', 'Christmas Trees', ' Astrologers', 'Outlet Stores', ' Arabic', ' Afghan', 'Walk-in Clinics', 'Architectural Tours', ' Roman', 'Cafeteria', ' Meaderies', 'Business Law', 'Discount Store', ' Propane', ' Taxis', ' Special Education', 'Sandwiches', 'Carpenters', ' Spray Tanning', ' Boxing', ' Rock Climbing', ' Hepatologists', 'Beverage Store', 'Trinidadian', ' Art Consultants', 'Whiskey Bars', ' Christmas Trees', ' Art Schools', ' Personal Care Services', ' Halotherapy', ' Hair Removal', 'Indonesian', ' Department Stores', ' Dentists', 'Dance Wear', ' Billing Services', ' Breakfast & Brunch', 'Life Coach', ' Social Security Law', 'Garage Door Services', ' Police Departments', 'RV Rental', ' Endocrinologists', ' Candle Stores', ' Food', ' Hong Kong Style Cafe', ' Hydro-jetting', ' Contractors', 'Supernatural Readings', 'Hazardous Waste Disposal', ' Tuscan', 'Childbirth Education', 'Emergency Medicine', ' Buffets', 'Home & Rental Insurance', 'Audio/Visual Equipment Rental', ' Orthopedists', 'Synagogues', ' Vehicle Shipping', 'Stucco Services', 'Delis', 'Excavation Services', 'American (New)', ' Dry Cleaning', 'Tattoo', ' Piano Stores', 'Shutters', ' Mobile Dent Repair', 'Auto Upholstery', None, 'Town Car Service', ' Dumpster Rental', 'Drive-In Theater', 'Roofing', 'Cosmetic Dentists', ' IT Services & Computer Repair', 'CSA', 'Door Sales/Installation', 'Commercial Truck Repair', ' Salvadoran', ' Medical Cannabis Referrals', 'Massage Therapy', 'Emergency Rooms', ' Electronics Repair', ' Piano Bars', ' Ramen', ' Active Life', 'Sunglasses', 'Obstetricians & Gynecologists', 'Irish', 'Vehicle Shipping', ' Czech', 'Golf Lessons', ' Community Gardens', ' Trade Fairs', ' Walking Tours', ' Dog Walkers', 'Nail Salons', 'Summer Camps', 'Music Venues', ' Gay Bars', ' Books', 'Cultural Center', 'Departments of Motor Vehicles', 'Opera & Ballet', ' Doctors', 'Coffeeshops', 'Ethnic Grocery', 'Face Painting', ' Rolfing', 'Mortuary Services', 'Cardiologists', ' Vape Shops', 'Internet Cafes', 'Rest Stops', ' Water Purification Services', 'Marketing', 'Vegan', 'Surfing', ' Cucina campana', ' Clothing Rental', 'Sports Wear', ' Disability Law', 'Auto Customization', 'Bounce House Rentals', ' Restaurant Supplies', ' Cabaret', 'Pet Sitting', 'Libraries', ' Lactation Services', ' Golf Cart Rentals', 'Trophy Shops', ' Wildlife Control', 'Cosmetic Surgeons', ' Golf Cart Dealers', ' Donburi', 'Falafel', 'Knitting Supplies', 'Public Services & Government', 'Oral Surgeons', 'Decks & Railing', 'Fertility', ' Car Stereo Installation', ' Sex Therapists', ' Hair Loss Centers', 'Anesthesiologists', 'Clothing Rental', ' Australian', 'Real Estate Law', ' Self-defense Classes', 'Bird Shops', ' Hotel bar', ' Guns & Ammo', 'Vinyl Records', ' Soccer', ' Aerial Fitness', ' Custom Cakes', 'Real Estate Agents', ' Trailer Dealers', ' Oriental', ' Veterinarians', 'Junk Removal & Hauling', ' Editorial Services', ' Brazilian', 'Mortgage Lenders', 'Pets', 'Kosher', 'Debt Relief Services', ' Vocal Coach', 'Drones', 'Trainers', 'Taekwondo', 'Eyebrow Services', 'Shoe Shine', ' Knitting Supplies', ' Meditation Centers', 'Well Drilling', 'Speech Therapists', ' Sleep Specialists', ' Safety Equipment', ' Passport & Visa Services', 'Appraisal Services', ' Behavior Analysts', ' Sports Psychologists', ' Hair Stylists', ' Naturopathic/Holistic', 'Memory Care', 'Shopping Centers', 'Metal Fabricators', ' Limos', ' Hookah Bars', ' Tai Chi', 'Title Loans', ' Dog Parks', 'Sheds & Outdoor Storage', 'Bocce Ball', 'Botanical Gardens', ' Desserts', 'Trailer Repair', ' Framing', ' Strip Clubs', 'Bed & Breakfast', 'Appliances & Repair', ' Home Energy Auditors', ' General Festivals', ' Videographers', 'Japanese Curry', ' Office Cleaning', ' Striptease Dancers', 'Hockey Equipment', 'Fish & Chips', ' Shoe Stores', ' Car Share Services', 'Local Fish Stores', 'Musicians', 'Rugs', 'Colombian', 'Medical Centers', ' Party Bus Rentals', 'Foundation Repair', ' Rugs', 'Pool Cleaners', 'Bakeries', 'Orthopedists', ' Mailbox Centers', ' EV Charging Stations', 'Septic Services', 'Motorsport Vehicle Dealers', ' Laser Tag', 'Swimming Lessons/Schools', ' Environmental Testing', ' Fishing', 'Bubble Tea', 'ATV Rentals/Tours', ' Salad', 'Traffic Ticketing Law', 'Screen Printing/T-Shirt Printing', 'Thai', ' Donuts', \"Children's Museums\", ' Osteopathic Physicians', ' Dive Shops', ' Beauty & Spas', 'Surgeons', 'Snow Removal', ' Spiritual Shop', 'Gelato', ' Carpeting', ' Uniforms', ' Pubs', ' Nanny Services', 'Piano Services', ' Cardio Classes', ' Painters', 'Wheel & Rim Repair', ' Irish Pub', 'Fireworks', ' Auto Repair', 'Walking Tours', 'Bartenders', 'Piano Stores', 'Public Markets', ' Hawaiian', ' Plus Size Fashion', 'Musical Instrument Services', ' Chinese', 'Psychiatrists', ' Car Wash', ' Sri Lankan', ' Cocktail Bars', ' Crisis Pregnancy Centers', 'Acupuncture', 'Battery Stores', 'Psychic Mediums', ' Public Markets', 'Orthotics', ' Nutritionists', 'Petting Zoos', ' Traffic Ticketing Law', ' Art Classes', 'Races & Competitions', ' Real Estate Services', 'Diners', 'Urologists', ' Septic Services', ' Used Bookstore', ' Swimming Lessons/Schools', 'Propane', ' Car Inspectors', ' Seafood', 'Parenting Classes', ' Knife Sharpening', ' Polish', ' Electricians', ' Cosmetic Dentists', ' Korean', 'Aquarium Services', ' Boat Dealers', ' Art Museums', 'Pool & Hot Tub Service', 'Souvenir Shops', 'Disc Golf', ' Thai', 'Makeup Artists', 'Condominiums', ' Carpet Installation', ' Bike tours', 'Gift Shops', ' Retina Specialists', 'Boot Camps', ' Race Tracks', 'Orthodontists', 'Preschools', 'Travel Services', 'Karate', 'Religious Items', 'Cambodian', 'Wildlife Control', ' Beach Equipment Rentals', ' Wineries', 'Bus Tours', ' Cheerleading', ' Commercial Real Estate', 'Windshield Installation & Repair', 'Wine Tasting Room', ' Debt Relief Services', 'Poutineries', 'Embroidery & Crochet', 'Astrologers', 'Spray Tanning', ' Canadian (New)', 'Tutoring Centers', 'Food Delivery Services', ' Mini Golf', 'Bookbinding', 'Buses', ' Airports', ' Carpet Dyeing', 'Spine Surgeons', ' Izakaya', 'Talent Agencies', ' Bus Tours', ' Waxing', 'Food Tours', 'Dive Shops', 'Squash', 'Indoor Playcentre', 'Recording & Rehearsal Studios', ' Chicken Shop', ' Boot Camps', ' Radio Stations', 'Comedy Clubs', 'Trailer Rental', ' Heating & Air Conditioning/HVAC', ' Homeowner Association', ' Motorsport Vehicle Repairs', ' Adult', ' Aquarium Services', ' Rodeo', 'Pet Training', ' Basque', ' Bubble Soccer', 'Beach Equipment Rentals', 'Escape Games', ' Restaurants', 'Special Education', 'Television Service Providers', 'Weight Loss Centers', ' Teppanyaki', 'Hot Air Balloons', ' Mexican', 'Travel Agents', 'Homeowner Association', ' Shared Office Spaces', ' Climbing', 'Southern', ' Trusts', ' Midwives', 'Costumes', 'Bartending Schools', 'Snorkeling', 'Eyewear & Opticians', ' Bartenders', ' Shredding Services', \"Men's Hair Salons\", ' Circus Schools', 'Russian', ' Hungarian', ' Jewelry', ' Scavenger Hunts', ' Payroll Services', ' Public Art', 'Gemstones & Minerals', 'Environmental Testing', ' Hotels', ' Cannabis Dispensaries', ' Diving', 'Pool & Billiards', ' Face Painting', ' Process Servers', ' Pita', ' Portuguese', ' Parking', ' Audio/Visual Equipment Rental', 'Empanadas', 'Puerto Rican', 'Fitness & Instruction', 'Animal Physical Therapy', ' Waffles', ' Car Rental', ' Medical Supplies', 'Chicken Wings', 'Mass Media', ' Insurance', 'Magicians', ' Laotian', ' Prosthodontists', 'Property Management', ' Hydroponics', ' Calabrian', ' Coffee & Tea Supplies', 'Laboratory Testing', ' Shutters', ' Pedicabs', ' Leather Goods', ' Florists', 'Tanning', 'Fashion', ' Courthouses', ' Religious Schools', ' Watch Repair', ' Artificial Turf', 'Mailbox Centers', 'Body Shops', 'Career Counseling', 'Bike Repair/Maintenance', 'Toy Stores', ' Coffee & Tea', 'Dance Clubs', 'Scavenger Hunts', ' Georgian', 'Breakfast & Brunch', ' Diners', 'Tui Na', ' Video Game Stores', 'Water Parks', 'Korean', 'Cooking Classes', 'Nurse Practitioner', ' Mobile Phone Accessories', 'Belgian', 'Haunted Houses', ' Computers', 'Gold Buyers', 'Coffee & Tea', ' Tours', 'Printing Services', 'Motorcycle Gear', ' Home Developers', 'Grill Services', 'Community Centers', ' Skiing', 'Couriers & Delivery Services', ' American (New)', ' Massage', ' Estheticians', 'Business Consulting', ' Races & Competitions', ' Auto Parts & Supplies', ' Pathologists', ' Car Buyers', ' Hot Air Balloons', ' Airport Shuttles', 'Tacos', ' Cosmetics & Beauty Supply', 'Scooter Rentals', 'Planetarium', ' Kiteboarding', 'Fondue', 'Urgent Care', ' Pakistani', ' Customized Merchandise', ' Yoga', ' Lawyers', ' Szechuan', 'Horse Boarding', 'Pediatric Dentists', ' Fitness & Instruction', ' First Aid Classes', 'Lawn Services', ' Churches', 'Caribbean', ' Appliances', ' Vinyl Records', ' Golf Equipment Shops', 'Diagnostic Services', 'Pet Hospice', 'Gutter Services', 'Alternative Medicine', ' Foot Care', ' Bus Stations', 'Specialty Food', 'Pancakes', 'Criminal Defense Law', ' Buddhist Temples', ' Screen Printing/T-Shirt Printing', ' Silent Disco', 'Art Museums', 'Private Schools', ' Party Bike Rentals', ' Speech Therapists', 'New Mexican Cuisine', 'Art Classes', 'Keys & Locksmiths', 'Wine Tours', ' Flooring', ' Steakhouses', ' Playsets', ' Photography Classes', ' Sledding', ' Home & Garden', ' Auction Houses', ' Organic Stores', ' Paddleboarding', 'Food Trucks', ' Screen Printing', 'Specialty Schools', 'Internal Medicine', 'Social Clubs', ' Gun/Rifle Ranges', ' Egyptian', ' Medical Spas', ' Oxygen Bars', ' Bookbinding', 'Used Car Dealers', 'Rafting/Kayaking', 'Bespoke Clothing', 'Tanning Beds', 'Diagnostic Imaging', ' Flight Instruction', ' Libraries', 'Estate Liquidation', 'Skating Rinks', ' DUI Law', ' Registration Services', 'Framing', ' Live/Raw Food', ' Aerial Tours', 'Greek', 'Haitian', 'Afghan', ' Music & DVDs', 'DUI Law', ' Engraving', 'Arts & Crafts', 'Flight Instruction', 'Observatories', ' Grill Services', \"Children's Clothing\", 'Health Retreats', ' Ethical Grocery', 'Electronics', ' Pool & Billiards', ' Roof Inspectors', 'TV Mounting', ' Landscape Architects', 'Pawn Shops', 'Computers', 'Strip Clubs', 'Hardware Stores', ' Water Delivery', ' Shoe Shine', 'Process Servers', ' Skating Rinks', ' Weight Loss Centers', 'Buffets', ' Snow Removal', ' Private Jet Charter', ' Puerto Rican', ' Car Brokers', 'Donairs', ' Chocolatiers & Shops', 'Yoga', 'Tapas/Small Plates', 'Wedding Planning', 'Visitor Centers', 'Henna Artists', 'Flea Markets', ' Otologists', 'Oncologist', 'Medical Transportation', 'Videographers', 'Estheticians', ' Educational Services', ' Henna Artists', ' Software Development', 'Recycling Center', 'Chicken Shop', 'Hearing Aid Providers', ' Pumpkin Patches', ' German', 'Osteopaths', ' Prenatal/Perinatal Care', 'Public Adjusters', ' Bike Repair', ' Keys & Locksmiths', 'Lakes', ' Farmers Market', ' Prosthetics', ' Olive Oil', 'Meditation Centers', 'Popcorn Shops', ' IV Hydration', ' Senior Centers', 'Smokehouse', ' Pet Insurance', ' Opera & Ballet', ' Business Consulting', 'Psychologists', ' Gas Stations', ' Veterans Organizations', 'High Fidelity Audio Equipment', ' Dim Sum', 'Uniforms', 'Blow Dry/Out Services', ' Immigration Law', ' Float Spa', ' Bagels', 'Dim Sum', ' Horseback Riding', 'Filipino', ' Attraction Farms', ' LAN Centers', ' Estate Planning Law', ' Used', ' Experiences', 'Auto Loan Providers', 'Pool Halls', ' Accessories', ' Auto Glass Services', 'Plus Size Fashion', 'Teeth Whitening', ' Interlock Systems', 'Halotherapy', 'Dog Parks', ' Banks & Credit Unions', ' Doulas', ' Reiki', ' Sports Clubs', ' Medical Centers', ' Diagnostic Imaging', 'Professional Sports Teams', 'Coffee Roasteries', ' Public Services & Government', 'Paint & Sip', 'Cycling Classes', ' Holiday Decorating Services', ' Sauna Installation & Repair', ' Boating', ' Digitizing Services', 'Pretzels', 'Mediators', ' Wholesalers', ' Bars', 'Dominican', 'Dance Studios', 'Teacher Supplies', ' Vegan', ' Tiling', 'Resorts', 'Rheumatologists', ' Holistic Animal Care', ' Horse Boarding', 'Swimwear', ' Flyboarding', 'Lighting Stores', 'German', ' Wine Tasting Classes', 'Insurance', 'Beer Tours', 'Massage Schools', ' Filipino', ' Building Supplies', ' Balloon Services', ' Bike Rentals', 'Rehabilitation Center', ' Funeral Services & Cemeteries', 'Mobile Dent Repair', ' Middle Schools & High Schools', ' Roofing', ' Skin Care', 'Organic Stores', ' Water Parks', 'Montessori Schools', 'RV Repair', 'Packing Services', 'Herbs & Spices', 'Wholesale Stores', 'Argentine', 'Wildlife Hunting Ranges', 'Basque', 'Tai Chi', 'Video Game Stores', ' Guest Houses', ' British', 'Marinas', ' Kids Activities', ' Rest Stops', 'Home Window Tinting', 'Adult', 'Video/Film Production', ' Officiants', 'Used Bookstore', ' Train Stations', ' Hockey Equipment', 'Handyman', ' Orthodontists', ' Whale Watching Tours', 'Gastropubs', 'Mattresses', 'Lingerie', ' Dance Studios', 'Candy Stores', \" Men's Hair Salons\", 'Performing Arts', ' Employment Agencies', ' Shopping Centers', ' Cooking Schools', 'Distilleries', 'Bistros', 'Real Estate Services', ' Private Schools', ' Thrift Stores', 'Transmission Repair', 'Paddleboarding', 'Valet Services', 'Sledding', 'Syrian', ' Home Automation', ' Dive Bars', ' Japanese Curry', 'Used', 'Apartments', 'Sardinian', ' Clowns', 'Golf Equipment Shops', ' Hybrid Car Repair', ' Campgrounds', ' Mobility Equipment Sales & Services', ' Pet Waste Removal', ' Noodles', ' Grilling Equipment', ' Party & Event Planning', 'Furniture Repair', 'Restaurants', ' Siding', ' Venezuelan', ' Infectious Disease Specialists', ' Pet Breeders', ' Indian', ' Shanghainese', 'LAN Centers', 'International', ' Hardware Stores', 'Dietitians', 'Cabinetry', 'Endodontists', 'Painters', ' Aviation Services', 'Housing Cooperatives', 'Cards & Stationery', ' Alternative Medicine', ' Endodontists', ' Airlines', ' Petting Zoos', 'Newspapers & Magazines', ' Pet Transportation', ' Country Clubs', 'Bar Crawl', 'Soup', ' Outdoor Furniture Stores', ' Lakes', 'Asian Fusion', 'Go Karts', ' Pets', 'Campgrounds', 'Cuban', ' Go Karts', 'Personal Assistants', 'Cheese Shops', ' Machine & Tool Rental', 'Electronics Repair', ' Municipality', 'Farmers Market', 'Structural Engineers', ' Wigs', 'Salvadoran', ' Caribbean', 'RV Dealers', ' Title Loans', ' Waldorf Schools', ' Golf Lessons', ' Haunted Houses', 'Home Cleaning', ' Bakeries', 'Pole Dancing Classes', 'Do-It-Yourself Food', ' Pet Photography', ' Tanning Beds', ' Water Stores', 'Cannabis Clinics', ' French', ' Medical Transportation', ' Karaoke Rental', ' Hospice', 'International Grocery', 'Guns & Ammo', 'Diving', ' Day Spas', ' Trivia Hosts', 'Divorce & Family Law', 'Gunsmith', ' Windows Installation', 'Fingerprinting', ' Garage Door Services', ' Fences & Gates', ' Vacation Rentals', 'Shared Office Spaces', 'Bridal', 'Security Services', ' Art Space Rentals', 'Tasting Classes', 'Allergists', ' Plumbing', 'Rolfing', ' Acupuncture', ' Reflexology', 'Fast Food', 'Hospice', ' Business Financing', 'Optometrists', 'Hobby Shops', \" Children's Clothing\", ' Mediators', ' Paint & Sip', 'Billing Services', ' Town Car Service', ' Electricity Suppliers', 'Motorsport Vehicle Repairs', ' Luggage Storage', 'Himalayan/Nepalese', ' Pharmacy', 'French', 'Donation Center', ' Israeli', ' Themed Cafes', 'Window Washing', ' Internet Service Providers', 'Hawaiian', ' Car Auctions', 'Barbeque', ' Tattoo', 'Boat Dealers', 'Machine & Tool Rental', ' Fashion', ' Home Network Installation', ' Used Car Dealers', ' Cantonese', ' Wheel & Rim Repair', ' Tapas Bars', ' Pilates', 'Tree Services', ' Cosmetic Surgeons', ' Trophy Shops', ' Window Washing', ' Art Tours', 'Macarons', ' Honduran', 'Buddhist Temples', ' Home Window Tinting', ' Pet Adoption', 'Aerial Tours', ' Gold Buyers', 'Paintball', ' Door Sales/Installation', ' Biohazard Cleanup', 'Poke', 'Fabric Stores', 'Doctors', ' Eyewear & Opticians', \"Men's Clothing\", 'Eatertainment', ' Tobacco Shops', ' Machine Shops', ' Boat Parts & Supplies', ' Beaches', 'Luggage', ' Blood & Plasma Donation Centers', 'Transportation', ' Signmaking', ' Kombucha', ' Motorcycle Dealers', ' Real Estate', ' Appliances & Repair', ' Stadiums & Arenas', ' Newspapers & Magazines', 'Print Media', 'Olive Oil', ' Skilled Nursing', ' Russian', ' Bistros', ' Community Service/Non-Profit', ' Utilities', 'Brewing Supplies', ' Scooter Tours', ' Body Shops', ' Outdoor Gear', 'Party & Event Planning', ' Battery Stores', ' Baby Gear & Furniture', 'Home & Garden', ' Kids Hair Salons', ' Patent Law', ' Blow Dry/Out Services', ' Barbeque', ' Trainers', ' ATV Rentals/Tours', ' Bartending Schools', ' RV Rental', ' Personal Shopping', 'Art Supplies', ' Caterers', ' Medical Law', ' Animal Physical Therapy', 'Trailer Dealers', 'Test Preparation', ' Lebanese', ' Junk Removal & Hauling', ' Embroidery & Crochet', ' Notaries', ' Gunsmith', ' Retirement Homes', ' Audiologist', 'Car Rental', 'Ranches', 'Archery', ' Argentine', ' Decks & Railing', ' Belgian', ' Singaporean', ' Hair Extensions', 'Employment Agencies', ' Sewing & Alterations', 'Counseling & Mental Health', ' Well Drilling', 'Masonry/Concrete', ' Himalayan/Nepalese', 'Lactation Services', 'Laser Hair Removal', 'Food Stands', ' Motorcycle Rental', 'Farming Equipment', ' Fencing Clubs', 'Roadside Assistance', 'Laundromat', 'Mobile Phone Repair', 'Colleges & Universities', 'Dumpster Rental', ' Telecommunications', 'Vocational & Technical School', 'Beer Gardens', 'Local Services', ' Glass Blowing', 'Party Supplies', 'Security Systems', 'Bicycles', 'Editorial Services', 'Medical Supplies', 'Team Building Activities', ' Cambodian', ' Comic Books', 'Education', ' Mongolian', 'Eastern European', 'Bingo Halls', 'Challenge Courses', 'Chiropractors', ' Local Fish Stores', 'Jazz & Blues', 'Adult Education', 'Grocery', ' TV Mounting', ' Tapas/Small Plates', ' Tennis', 'Somali', ' Guamanian', ' Antiques', ' Nicaraguan', ' Threading Services', 'Ethical Grocery', 'Carpet Dyeing', 'Pharmacy', ' Asian Fusion', \" Women's Clothing\", 'Data Recovery', ' Golf Equipment', 'Airport Lounges', ' Dance Clubs', \"Women's Clothing\", ' Education', ' Handyman', ' Public Adjusters', 'Motorcycle Repair', 'Metal Detector Services', 'Sleep Specialists', 'Estate Planning Law', ' Wedding Planning', 'Free Diving', ' Burgers', ' Apartment Agents', ' Orthotics', ' Pet Boarding', 'Furniture Assembly', ' Addiction Medicine', ' & Probates', 'Hair Salons', ' Senegalese', ' Lounges', ' Trampoline Parks', ' Health Retreats', 'Wholesalers', 'Dialysis Clinics', 'Damage Restoration', 'Immunodermatologists', 'Retirement Homes', ' Interval Training Gyms', ' Pet Cremation Services', 'Chocolatiers & Shops', 'Waffles', 'Gymnastics', 'Wallpapering', ' Ethnic Food', 'Martial Arts', 'Yelp Events', 'Furniture Rental', ' Piercing', ' Irish', 'Siding', ' Dumplings', ' Hindu Temples', ' Mobile Home Parks', ' Boat Repair', 'Skin Care', ' Generator Installation/Repair', 'Occupational Therapy', 'Egyptian', 'Zoos', 'Auto Security', ' Packing Services', 'Pet Services', ' Indoor Playcentre', ' Excavation Services', 'Pop-Up Restaurants', 'Medical Cannabis Referrals', 'Flooring', 'Skate Parks', 'Saunas', 'Game Truck Rental', ' Flowers & Gifts', ' Persian/Iranian', ' Beer Bar', 'Wedding Chapels', ' Guitar Stores', 'Glass & Mirrors', 'Landmarks & Historical Buildings', ' Cupcakes', ' Serbo Croatian', ' Cigar Bars', 'Florists', 'Caterers', ' Plastic Surgeons', ' Squash', 'Turkish', ' Couriers & Delivery Services', ' Ziplining', 'Ramen', 'Beer Bar', ' Bike Sharing', 'Historical Tours', 'Boudoir Photography', ' Furniture Stores', ' Cannabis Collective', 'Water Heater Installation/Repair', 'Chimney Sweeps', 'Ski & Snowboard Shops', 'Massage', 'Livestock Feed & Supply', 'Boat Charters', ' Recycling Center', 'Sports Clubs', 'Vehicle Wraps', ' Shipping Centers', 'Imported Food', ' Cabinetry', ' Ear Nose & Throat', ' Disc Golf', ' Gastroenterologist', 'Outdoor Movies', 'Cinema', ' Livestock Feed & Supply', 'Hair Stylists', 'Home Decor', 'Ethnic Food', 'Comfort Food', 'Pet Groomers', ' Land Surveying', 'Car Stereo Installation', 'Funeral Services & Cemeteries', 'Dry Cleaning', ' Snorkeling', 'Digitizing Services', ' Donairs', 'Payroll Services', ' Valet Services', 'Carousels', ' Calligraphy', ' Foundation Repair', ' American (Traditional)', ' Home Inspectors', ' Periodontists', 'Home Energy Auditors', 'Sex Therapists', ' Fabric Stores', ' Souvenir Shops', 'Dry Cleaning & Laundry', 'Community Service/Non-Profit', ' Water Suppliers', ' Security Systems', ' Nail Technicians', 'Cooking Schools', 'Party Bus Rentals', 'Mortgage Brokers', ' Homeless Shelters', ' Damage Restoration', ' Ranches', 'Convenience Stores', ' Escape Games', 'Pet Stores', ' Psychics', 'IT Services & Computer Repair', 'Georgian', ' Insulation Installation', 'Home Health Care', ' Pole Dancing Classes', ' Mattresses', ' New Mexican Cuisine', 'Karaoke', 'Holistic Animal Care', ' Moroccan', 'Service Stations', 'Radiologists', 'Vocal Coach', ' South African', ' Home Services', ' Memory Care', 'Registration Services', 'Grilling Equipment', ' Vocational & Technical School', ' Hair Salons', ' Private Investigation', 'Thrift Stores', ' Colombian', ' Bubble Tea', ' International Grocery', 'Vegetarian', 'Hot Tub & Pool', 'Private Tutors', 'Tax Law', 'Mobility Equipment Sales & Services', ' Post Offices', ' Photography Stores & Services', 'Drugstores', ' Teacher Supplies', ' Vintage & Consignment', ' Sheds & Outdoor Storage', 'Nightlife', 'Parks', ' Office Equipment', ' Pet Training', ' Fireworks', ' Tabletop Games', 'Public Transportation', 'House Sitters', ' Ukrainian', ' Parklets', 'Videos & Video Game Rental', 'Pet Photography', ' Macarons', ' Motorcycle Parts & Supplies', ' Sports Bars', ' Air Duct Cleaning', ' Comedy Clubs', 'Threading Services', ' 3D Printing', 'Scooter Tours', 'Hair Loss Centers', 'Pubs', 'Food Banks', ' Eyelash Service', ' Food Delivery Services', ' Tutoring Centers', 'Dental Hygienists', 'Kitchen & Bath', ' Glass & Mirrors', 'Desserts', 'Cannabis Collective', 'Reproductive Health Services', 'Art Schools', ' Smokehouse', 'Patisserie/Cake Shop', ' Hospitals', ' Elementary Schools', 'Laundry Services', 'Middle Eastern', ' Cheesesteaks', ' Cosmetology Schools', ' Nudist', 'Self Storage', ' Psychic Mediums', ' Home Organization', ' Drugstores', 'Boating', 'Grout Services', ' Ice Cream & Frozen Yogurt', ' Car Dealers', 'Lawyers', ' Halfway Houses', ' Body Contouring', 'Racing Experience', ' Magicians', 'Jails & Prisons', ' Landscaping', 'Plumbing', 'Nurseries & Gardening', 'University Housing', ' International', ' Neurotologists', ' Bocce Ball', ' Austrian', ' Pick Your Own Farms', 'Car Auctions', 'Leather Goods', ' Life Coach', 'Float Spa', ' Gyms', ' Cryotherapy', ' Mediterranean', 'Colonics', ' Carpet Cleaning', ' RV Repair', 'Public Art', ' Sandwiches', 'Nanny Services', 'Audiologist', 'Day Spas', 'Sicilian', 'Tea Rooms', 'Vietnamese', ' Creperies', 'Ski Resorts', 'Peruvian', ' Home & Rental Insurance', ' Commercial Truck Dealers', 'Contractors', 'Officiants', ' Parenting Classes', ' Martial Arts', 'Playgrounds', ' Vegetarian', 'Laser Eye Surgery/Lasik', 'Lighting Fixtures & Equipment', 'Auto Detailing', 'Nicaraguan', 'Hot Pot', ' Cajun/Creole', ' Wedding Chapels', 'Formal Wear', ' Transmission Repair', ' Beverage Store', 'Steakhouses', 'Country Clubs', ' Real Estate Photography', ' Japanese', 'Bangladeshi', ' Fuzhou', ' Makerspaces', 'Fitness/Exercise Equipment', 'Auto Insurance', ' Oncologist', 'Assisted Living Facilities', ' Kiosk', ' Pediatricians', 'Lounges', 'IV Hydration', 'Hot Dogs', ' Venues & Event Spaces', ' Mortgage Brokers', ' Tea Rooms', ' Greek', 'Day Camps', ' Hang Gliding', 'Firearm Training', ' Observatories', 'Storefront Clinics', ' Pop-up Shops', ' Hypnosis/Hypnotherapy', 'Motorcycle Dealers', 'Home Inspectors', ' Gardeners', 'Trampoline Parks', 'Climbing', 'Cheesesteaks', 'Paint-Your-Own Pottery', ' Pool Cleaners', ' Hazardous Waste Disposal', 'Food Court', ' Movers', 'Soul Food', 'Utilities', ' Head Shops', ' Emergency Pet Hospital', ' Day Camps', 'Legal Services', ' Diamond Buyers', 'Amusement Parks', ' Massage Schools', 'Fire Protection Services', 'Sugaring', ' Uzbek', 'Parent Cafes', ' Comfort Food', ' Music & Video', ' Food Court', ' Bookkeepers', ' Lawn Services', 'Nephrologists', 'Office Equipment', ' Reptile Shops', 'Emergency Pet Hospital', ' Test Preparation', 'Biohazard Cleanup', 'Tapas Bars', ' Oral Surgeons', ' Home Health Care', ' Wraps', 'Senegalese', ' Auto Upholstery', ' Basketball Courts', 'Stadiums & Arenas', 'Adult Entertainment', ' Parasailing', ' Poke', 'Wine Tasting Classes', ' Bike Shop', ' Neurologist', 'Skiing', ' Health Markets', 'Sports Betting', ' Candy Stores', ' Bike Repair/Maintenance', 'Golf', 'Photographers', ' Ethiopian', 'Demolition Services', ' CPR Classes', ' Currency Exchange', ' Matchmakers', 'Boat Repair', ' Delicatessen', 'Hypnosis/Hypnotherapy', ' Laser Eye Surgery/Lasik', ' Peruvian', 'Reiki', 'Pet Transportation', ' Interior Design', ' Dinner Theater', ' Spin Classes', ' Dry Cleaning & Laundry', ' Contract Law', 'Sri Lankan', ' Ski Resorts', 'Beauty & Spas', ' Cooking Classes', 'Vacation Rental Agents', ' Resorts', 'Swimming Pools', 'Caricatures', ' Radiologists', 'Wineries', ' Hydrotherapy', ' Eatertainment', ' Elevator Services', 'Retina Specialists', 'Burmese', 'Qi Gong', 'Gun/Rifle Ranges', 'Bus Rental', ' Popcorn Shops', 'Cannabis Dispensaries', ' Costumes', 'Mongolian', ' Condominiums', ' Sunglasses', ' Grocery', 'Brazilian Jiu-jitsu', ' Social Clubs', 'Oriental', ' Auto Loan Providers', ' Cheese Tasting Classes', 'Movers', ' Performing Arts', ' Hats', ' Barre Classes', 'Gyms', ' Allergists', ' Art Installation', ' Neuropathologists', ' Halal', 'Skate Shops', 'Maternity Wear', 'Holiday Decorating Services', 'Bookkeepers', ' Demolition Services', ' Cards & Stationery', ' Supper Clubs', 'American (Traditional)', 'Home Services', 'Wigs', ' Rheumatologists', 'Ethiopian', 'Pop-up Shops', 'Public Relations', 'Bowling', ' Specialty Schools', ' Ayurveda', ' Colonics', 'Ukrainian', ' Tableware', ' Car Window Tinting', ' Session Photography', 'Telecommunications', 'Herbal Shops', 'Kebab', 'Musical Instruments & Teachers', ' Wholesale Stores', ' Mobile Home Repair', 'Comic Books', ' Trains', ' Mortuary Services', ' Public Transportation', ' Musicians', ' Cycling Classes', 'Arabic', ' Event Planning & Services', 'Veterinarians', ' Champagne Bars', 'Refinishing Services', 'Medical Law', 'Sporting Goods', 'Podiatrists', ' Cideries', 'Tabletop Games', 'Tiling', ' Employment Law', ' Game Truck Rental', ' Kickboxing', ' Obstetricians & Gynecologists', 'Burgers', 'Advertising', 'Vacation Rentals', ' Pool & Hot Tub Service', ' Chinese Martial Arts', 'Aestheticians', ' Architectural Tours', ' Ice Delivery', ' Scottish', 'Cosmetology Schools', ' Jazz & Blues', 'Ear Nose & Throat', 'Home Staging', ' Physical Therapy', 'Airsoft', 'Fireplace Services', 'Workers Compensation Law', 'Acne Treatment', ' Occupational Therapy', ' Workers Compensation Law', 'Web Design', ' Scuba Diving', ' Archery', ' Bangladeshi', 'Glass Blowing', ' Mags', ' Adult Education', 'Seafood', ' Lingerie', ' Turkish', 'Waxing', 'Cideries', ' Coffeeshops', ' Printing Services', ' Casinos', ' Videos & Video Game Rental', ' Paragliding', ' Lighting Fixtures & Equipment', 'Gardeners', ' Empanadas', ' RV Dealers', 'Installment Loans', 'Oxygen Bars', ' Private Tutors', ' Carpenters', ' Reproductive Health Services', ' Muay Thai', ' Bespoke Clothing', 'Dog Walkers', 'Soccer', 'Books', ' Advertising', ' Kebab', ' Pretzels', 'Health Markets', 'Home Theatre Installation', 'Salad', ' Sports Wear', 'Smog Check Stations', 'Japanese', 'Jewelry Repair', ' Baseball Fields', ' Childbirth Education', 'Nutritionists', ' Drive-Thru Bars', 'Circuit Training Gyms', ' DJs', ' Club Crawl', ' CSA', 'Trivia Hosts', ' Spine Surgeons', 'Family Practice', ' Bingo Halls', 'Bankruptcy Law', 'Shipping Centers', ' Southern', 'Mediterranean', 'Building Supplies', ' Surfing', 'Persian/Iranian', ' Mohels', ' Urgent Care', ' Pet Stores', 'Patio Coverings', 'Windows Installation', ' Metal Fabricators', ' Scooter Rentals', 'Safe Stores', ' Tax Services'}\n"
          ]
        }
      ]
    },
    {
      "cell_type": "code",
      "source": [
        "if 'Restaurants' in unique_values:\n",
        "    print('Key found!')\n",
        "else:\n",
        "    print('Key NOT found')"
      ],
      "metadata": {
        "colab": {
          "base_uri": "https://localhost:8080/"
        },
        "id": "bsp7oQxRK37D",
        "outputId": "ffa8e90e-1332-4189-a68b-b1bd15f93c6e"
      },
      "execution_count": 51,
      "outputs": [
        {
          "output_type": "stream",
          "name": "stdout",
          "text": [
            "Key found!\n"
          ]
        }
      ]
    },
    {
      "cell_type": "code",
      "source": [
        "b_pandas['categories'].str.contains('Restaurants')"
      ],
      "metadata": {
        "colab": {
          "base_uri": "https://localhost:8080/"
        },
        "id": "taM1cyvWURRK",
        "outputId": "54d9de64-8975-4df1-a39d-0d0145322d2c"
      },
      "execution_count": 61,
      "outputs": [
        {
          "output_type": "execute_result",
          "data": {
            "text/plain": [
              "0         False\n",
              "1         False\n",
              "2         False\n",
              "3          True\n",
              "4         False\n",
              "          ...  \n",
              "150341    False\n",
              "150342    False\n",
              "150343    False\n",
              "150344    False\n",
              "150345    False\n",
              "Name: categories, Length: 150346, dtype: object"
            ]
          },
          "metadata": {},
          "execution_count": 61
        }
      ]
    },
    {
      "cell_type": "code",
      "source": [
        "# Count the number of NaN values in column 'A'\n",
        "num_nan = b_pandas['categories'].isna().sum()\n",
        "print(num_nan)"
      ],
      "metadata": {
        "colab": {
          "base_uri": "https://localhost:8080/"
        },
        "id": "UmntgVl1WIQz",
        "outputId": "2b4af0a2-5100-43c9-bc7b-5a2ccd960c3c"
      },
      "execution_count": 64,
      "outputs": [
        {
          "output_type": "stream",
          "name": "stdout",
          "text": [
            "103\n"
          ]
        }
      ]
    },
    {
      "cell_type": "code",
      "source": [
        "# Drop rows with NaN values in column 'categories'\n",
        "df = b_pandas.dropna(subset=['categories'])"
      ],
      "metadata": {
        "id": "u8FrbVNUXal8"
      },
      "execution_count": 65,
      "outputs": []
    },
    {
      "cell_type": "code",
      "source": [
        "# Filter rows where the 'categories' column contains the string 'Restaurants'\n",
        "df_filtered = df[df['categories'].str.contains('Restaurants')]\n",
        "\n",
        "# Print the filtered DataFrame\n",
        "print(df_filtered)"
      ],
      "metadata": {
        "colab": {
          "base_uri": "https://localhost:8080/"
        },
        "id": "hJVb3RohXnUw",
        "outputId": "c5875d32-3ee9-451c-949b-9f995e9e7ffd"
      },
      "execution_count": 66,
      "outputs": [
        {
          "output_type": "stream",
          "name": "stdout",
          "text": [
            "                   business_id                           name  \\\n",
            "3       MTSW4McQd7CbVtyjqoe9mw             St Honore Pastries   \n",
            "5       CF33F8-E6oudUQ46HnavjQ                 Sonic Drive-In   \n",
            "8       k0hlBqXX-Bt0vf1op7Jr1w          Tsevi's Pub And Grill   \n",
            "9       bBDDEgkFA1Otx9Lfe7BZUQ                 Sonic Drive-In   \n",
            "11      eEOYSgkmpB90uNA7lDOMRA          Vietnamese Food Truck   \n",
            "...                        ...                            ...   \n",
            "150325  l9eLGG9ZKpLJzboZq-9LRQ                           Wawa   \n",
            "150327  cM6V90ExQD6KMSU3rRB5ZA              Dutch Bros Coffee   \n",
            "150336  WnT9NIzQgLlILjPT0kEcsQ  Adelita Taqueria & Restaurant   \n",
            "150339  2O2K6SXPWv56amqxCECd4w                   The Plum Pit   \n",
            "150340  hn9Toz3s-Ei3uZPt7esExA          West Side Kebab House   \n",
            "\n",
            "                   city state postal_code  stars  review_count  is_open  \\\n",
            "3          Philadelphia    PA       19107    4.0            80        1   \n",
            "5          Ashland City    TN       37015    2.0             6        1   \n",
            "8                Affton    MO       63123    3.0            19        0   \n",
            "9             Nashville    TN       37207    1.5            10        1   \n",
            "11            Tampa Bay    FL       33602    4.0            10        1   \n",
            "...                 ...   ...         ...    ...           ...      ...   \n",
            "150325  Clifton Heights    PA       19018    3.0            11        1   \n",
            "150327            Boise    ID       83704    4.0            33        1   \n",
            "150336     Philadelphia    PA       19147    4.5            35        1   \n",
            "150339            Aston    DE       19014    4.5            14        1   \n",
            "150340         Edmonton    AB     T5T 1K8    4.5            18        0   \n",
            "\n",
            "                                               attributes  \\\n",
            "3       {'RestaurantsDelivery': 'False', 'OutdoorSeati...   \n",
            "5       {'BusinessParking': 'None', 'BusinessAcceptsCr...   \n",
            "8       {'Caters': 'True', 'Alcohol': 'u'full_bar'', '...   \n",
            "9       {'RestaurantsAttire': ''casual'', 'Restaurants...   \n",
            "11      {'Alcohol': ''none'', 'OutdoorSeating': 'None'...   \n",
            "...                                                   ...   \n",
            "150325  {'BikeParking': 'True', 'BusinessAcceptsCredit...   \n",
            "150327  {'WiFi': ''free'', 'RestaurantsGoodForGroups':...   \n",
            "150336  {'WheelchairAccessible': 'False', 'Restaurants...   \n",
            "150339  {'RestaurantsDelivery': 'False', 'BusinessAcce...   \n",
            "150340  {'Ambience': '{'touristy': False, 'hipster': F...   \n",
            "\n",
            "                                               categories  \\\n",
            "3       Restaurants, Food, Bubble Tea, Coffee & Tea, B...   \n",
            "5       Burgers, Fast Food, Sandwiches, Food, Ice Crea...   \n",
            "8       Pubs, Restaurants, Italian, Bars, American (Tr...   \n",
            "9       Ice Cream & Frozen Yogurt, Fast Food, Burgers,...   \n",
            "11             Vietnamese, Food, Restaurants, Food Trucks   \n",
            "...                                                   ...   \n",
            "150325  Restaurants, Sandwiches, Convenience Stores, C...   \n",
            "150327  Cafes, Juice Bars & Smoothies, Coffee & Tea, R...   \n",
            "150336                               Restaurants, Mexican   \n",
            "150339  Restaurants, Comfort Food, Food, Food Trucks, ...   \n",
            "150340                        Middle Eastern, Restaurants   \n",
            "\n",
            "                                                    hours  \n",
            "3       {'Monday': '7:0-20:0', 'Tuesday': '7:0-20:0', ...  \n",
            "5       {'Monday': '0:0-0:0', 'Tuesday': '6:0-22:0', '...  \n",
            "8                                                    None  \n",
            "9       {'Monday': '0:0-0:0', 'Tuesday': '6:0-21:0', '...  \n",
            "11      {'Monday': '11:0-14:0', 'Tuesday': '11:0-14:0'...  \n",
            "...                                                   ...  \n",
            "150325  {'Monday': '0:0-0:0', 'Tuesday': '0:0-0:0', 'W...  \n",
            "150327  {'Monday': '0:0-0:0', 'Tuesday': '0:0-17:0', '...  \n",
            "150336  {'Monday': '11:0-22:0', 'Tuesday': '11:0-22:0'...  \n",
            "150339  {'Monday': '0:0-0:0', 'Tuesday': '0:0-0:0', 'W...  \n",
            "150340  {'Monday': '11:0-22:0', 'Tuesday': '11:0-22:0'...  \n",
            "\n",
            "[52268 rows x 11 columns]\n"
          ]
        }
      ]
    },
    {
      "cell_type": "markdown",
      "source": [
        "Need to reduce file size for Github so dropping a few columns. Could add attributes back for a different interesting analysis."
      ],
      "metadata": {
        "id": "4ZJle-ZVaG9c"
      }
    },
    {
      "cell_type": "code",
      "source": [
        "# Drop 'attributes' and 'hours'\n",
        "df_filtered = df_filtered.drop(columns=['attributes'])\n",
        "df_filtered = df_filtered.drop(columns=['hours'])"
      ],
      "metadata": {
        "id": "1G5ycilXZx9q"
      },
      "execution_count": 68,
      "outputs": []
    },
    {
      "cell_type": "code",
      "source": [
        "print(df_filtered)"
      ],
      "metadata": {
        "colab": {
          "base_uri": "https://localhost:8080/"
        },
        "id": "Sp_seggpagUH",
        "outputId": "2895c659-4847-4d1a-c58a-d1bb8bbeaf9a"
      },
      "execution_count": 69,
      "outputs": [
        {
          "output_type": "stream",
          "name": "stdout",
          "text": [
            "                   business_id                           name  \\\n",
            "3       MTSW4McQd7CbVtyjqoe9mw             St Honore Pastries   \n",
            "5       CF33F8-E6oudUQ46HnavjQ                 Sonic Drive-In   \n",
            "8       k0hlBqXX-Bt0vf1op7Jr1w          Tsevi's Pub And Grill   \n",
            "9       bBDDEgkFA1Otx9Lfe7BZUQ                 Sonic Drive-In   \n",
            "11      eEOYSgkmpB90uNA7lDOMRA          Vietnamese Food Truck   \n",
            "...                        ...                            ...   \n",
            "150325  l9eLGG9ZKpLJzboZq-9LRQ                           Wawa   \n",
            "150327  cM6V90ExQD6KMSU3rRB5ZA              Dutch Bros Coffee   \n",
            "150336  WnT9NIzQgLlILjPT0kEcsQ  Adelita Taqueria & Restaurant   \n",
            "150339  2O2K6SXPWv56amqxCECd4w                   The Plum Pit   \n",
            "150340  hn9Toz3s-Ei3uZPt7esExA          West Side Kebab House   \n",
            "\n",
            "                   city state postal_code  stars  review_count  is_open  \\\n",
            "3          Philadelphia    PA       19107    4.0            80        1   \n",
            "5          Ashland City    TN       37015    2.0             6        1   \n",
            "8                Affton    MO       63123    3.0            19        0   \n",
            "9             Nashville    TN       37207    1.5            10        1   \n",
            "11            Tampa Bay    FL       33602    4.0            10        1   \n",
            "...                 ...   ...         ...    ...           ...      ...   \n",
            "150325  Clifton Heights    PA       19018    3.0            11        1   \n",
            "150327            Boise    ID       83704    4.0            33        1   \n",
            "150336     Philadelphia    PA       19147    4.5            35        1   \n",
            "150339            Aston    DE       19014    4.5            14        1   \n",
            "150340         Edmonton    AB     T5T 1K8    4.5            18        0   \n",
            "\n",
            "                                               categories  \n",
            "3       Restaurants, Food, Bubble Tea, Coffee & Tea, B...  \n",
            "5       Burgers, Fast Food, Sandwiches, Food, Ice Crea...  \n",
            "8       Pubs, Restaurants, Italian, Bars, American (Tr...  \n",
            "9       Ice Cream & Frozen Yogurt, Fast Food, Burgers,...  \n",
            "11             Vietnamese, Food, Restaurants, Food Trucks  \n",
            "...                                                   ...  \n",
            "150325  Restaurants, Sandwiches, Convenience Stores, C...  \n",
            "150327  Cafes, Juice Bars & Smoothies, Coffee & Tea, R...  \n",
            "150336                               Restaurants, Mexican  \n",
            "150339  Restaurants, Comfort Food, Food, Food Trucks, ...  \n",
            "150340                        Middle Eastern, Restaurants  \n",
            "\n",
            "[52268 rows x 9 columns]\n"
          ]
        }
      ]
    },
    {
      "cell_type": "code",
      "source": [
        "# Make a CSV of just the Restaurants\n",
        "df_filtered.to_csv(\"restaurants.csv\")"
      ],
      "metadata": {
        "id": "ms0FNc35YDid"
      },
      "execution_count": 70,
      "outputs": []
    }
  ]
}